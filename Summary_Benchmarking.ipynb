{
 "cells": [
  {
   "cell_type": "markdown",
   "id": "e88ff651",
   "metadata": {},
   "source": [
    "# Project Introduction: Benchmarking Summaries using MediaSUM Dataset\n",
    "\n",
    "## Scope of the Project\n",
    "The primary objective of this project is to demonstrate the methodology for benchmarking text summarization models. We utilize the MediaSUM dataset, a rich collection of news interview transcripts, to evaluate the performance of our summarization techniques using ROUGE scores. By the end of this project, you'll understand how to preprocess data, generate summaries, and assess their quality effectively.\n",
    "\n",
    "\n",
    "## Key Sections of the Notebook\n",
    "1. Data Preprocessing\n",
    "2. Text Summarization using BART and GPT-3\n",
    "3. Performance Evaluation with ROUGE Scores\n",
    "\n",
    "## Results\n",
    "We do not make statisticaly significant findings it is for demo purposes only\n",
    "  \n",
    "Date: January 2025"
   ]
  },
  {
   "cell_type": "code",
   "execution_count": 1,
   "id": "16ae4833-11c5-460a-be15-5d6bd652f335",
   "metadata": {},
   "outputs": [],
   "source": [
    "from huggingface_hub import login\n",
    "import openai\n",
    "import os\n",
    "import pandas as pd\n",
    "from rouge_score import rouge_scorer\n",
    "import timeit\n",
    "import torch\n",
    "from transformers import pipeline\n"
   ]
  },
  {
   "cell_type": "code",
   "execution_count": 2,
   "id": "24c34f79-1bd4-4f9a-b9e9-b568f0a070f1",
   "metadata": {},
   "outputs": [
    {
     "name": "stderr",
     "output_type": "stream",
     "text": [
      "c:\\Users\\johnt\\.conda\\envs\\ds\\Lib\\site-packages\\huggingface_hub\\file_download.py:1150: FutureWarning: `resume_download` is deprecated and will be removed in version 1.0.0. Downloads always resume when possible. If you want to force a new download, use `force_download=True`.\n",
      "  warnings.warn(\n"
     ]
    },
    {
     "name": "stdout",
     "output_type": "stream",
     "text": [
      "cuda\n"
     ]
    }
   ],
   "source": [
    "# Prepare BART Model\n",
    "device = 'cuda' if torch.cuda.is_available() else 'cpu'\n",
    "os.environ[\"CUDA_LAUNCH_BLOCKING\"] = \"1\"\n",
    "os.environ[\"TORCH_USE_CUDA_DSA\"] = \"1\"\n",
    "bart_summarizer = pipeline(\"summarization\", model=\"philschmid/bart-large-cnn-samsum\", device_map = device)\n",
    "print(device)"
   ]
  },
  {
   "cell_type": "code",
   "execution_count": 3,
   "id": "6553b39a-172f-4eb3-87a5-66966964429c",
   "metadata": {},
   "outputs": [
    {
     "name": "stdout",
     "output_type": "stream",
     "text": [
      "\n",
      "Setting huggingface key...\n",
      "The token has not been saved to the git credentials helper. Pass `add_to_git_credential=True` in this function directly or `--add-to-git-credential` if using via `huggingface-cli` if you want to set the git credential as well.\n",
      "Token is valid (permission: read).\n",
      "Your token has been saved to C:\\Users\\johnt\\.cache\\huggingface\\token\n",
      "Login successful\n",
      "\n",
      "Setting openai key...\n",
      "Key length:  164\n"
     ]
    }
   ],
   "source": [
    "print(\"\\nSetting huggingface key...\")\n",
    "with open(\"../../.secrets/huggingface_token_2501_general_read.txt\", 'r') as f:\n",
    "    huggingface_access_token = f.read()\n",
    "login(token=huggingface_access_token)\n",
    "\n",
    "\n",
    "print(\"\\nSetting openai key...\")\n",
    "with open(\"../../.secrets/2501-openai-rwx-key.key\", 'r') as f:\n",
    "    openai.api_key = f.read()\n",
    "    os.environ[\"OPENAI_API_KEY\"] = openai.api_key\n",
    "    print(\"Key length: \", len(os.environ[\"OPENAI_API_KEY\"]))\n"
   ]
  },
  {
   "cell_type": "code",
   "execution_count": 4,
   "id": "c17493e4-086b-4f5e-ba62-98a0a5c5c02a",
   "metadata": {},
   "outputs": [],
   "source": [
    "def clean_bart_summary_chunk(inference_model, text, max_tokens = 1000, min_tokens = 164, verbose = False):\n",
    "    \"\"\"\n",
    "\n",
    "    NOT WORKING\n",
    "\n",
    "    Roughly clean and Summarize text using inferance model in chunks to ensure that text within token limit.\n",
    "\n",
    "    Parameters:\n",
    "        inference_model : object\n",
    "            Summarization model instance.\n",
    "            e.g. bart_summarizer = pipeline(\"summarization\", model=\"philschmid/bart-large-cnn-samsum\")\n",
    "        text : str\n",
    "            Input text to summarize.\n",
    "        max_tokens : int, optional, default=1000\n",
    "            Max token limit per chunk, estimated as 1 token = 4 characters.\n",
    "\n",
    "    Returns:\n",
    "        str\n",
    "            Summarized text. Will be a concatenation of summaries for very long texts.\n",
    "    \"\"\"\n",
    "    chunked_text = [text[i:i+max_tokens*4] for i in range(0, len(text), max_tokens*4)]\n",
    "    summaries = []\n",
    "    os.environ[\"TORCH_USE_CUDA_DSA\"] = \"1\"\n",
    "    os.environ[\"CUDA_LAUNCH_BLOCKING\"] = \"1\"\n",
    "    with torch.no_grad():\n",
    "        torch.cuda.empty_cache()\n",
    "    \n",
    "    # Split text into chunks of max_tokens*4 characters\n",
    "    if verbose: \n",
    "        print(f\"\\nText of length {len(text)} split into {len(chunked_text)} chunks.\")\n",
    "\n",
    "    if len(text) < min_tokens*4:\n",
    "        if verbose:\n",
    "            print( f\"Text of length {len(text)} is too short to summarize.\")\n",
    "        return text\n",
    "\n",
    "    for chunk in chunked_text:\n",
    "        if len(chunk) > min_tokens*4:\n",
    "            try:\n",
    "                summaries.append( inference_model(chunk)[0][\"summary_text\"])\n",
    "            except Warning as w:\n",
    "                pass\n",
    "        else:\n",
    "            summaries.append(chunk)\n",
    "    \n",
    "\n",
    "    # Join summaries and check if the combined length is within max_tokens4 limit\n",
    "\n",
    "    combined_summary = \"\\n\".join(summaries)\n",
    "    if len(combined_summary) < max_tokens*4:\n",
    "        return combined_summary\n",
    "    if verbose:\n",
    "        print( f\"Text of length {len(text)} condensed to {len(combined_summary)} characters.\")\n",
    "    \n",
    "    if len(summaries) == 0:\n",
    "        return text\n",
    "    elif len(summaries) == 1:\n",
    "        return summaries[0]\n",
    "    else:\n",
    "        try:\n",
    "            return inference_model(\" \".join(summaries))[0][\"summary_text\"]\n",
    "        except RuntimeError as e:\n",
    "            return str(e)\n",
    "        except Warning as w:\n",
    "            pass\n",
    "    \n",
    "\n",
    "def clean_bart_summary_clip(inference_model, text, max_tokens = 1000):\n",
    "    ''' Roughly clean input text for bart using token estimation of 1 token = 4 characters '''\n",
    "    # split input txt into chunks of max_tokens4 characters\n",
    "    clipped_text = text[:max_tokens*4] \n",
    "    if len(clipped_text) < len(text):\n",
    "        print(\"Dropped \",  len(text) - len(clipped_text), \" characters.\")\n",
    "    \n",
    "    return inference_model(clipped_text)[0][\"summary_text\"]   \n"
   ]
  },
  {
   "cell_type": "code",
   "execution_count": 5,
   "id": "ab454979-e88c-4215-b348-259a6914a54e",
   "metadata": {},
   "outputs": [],
   "source": [
    "def get_template_completion(catalogue_item_name: str, prompt_catalogue: pd.DataFrame, input_text: str,\n",
    "                   model_name: str =\"gpt-3.5-turbo\", temperature: float = 0.25, verbose=False  ) -> str:\n",
    "    \"\"\"\n",
    "    Generates a completion using OpenAI's ChatCompletion API based on the provided prompt configuration and input text.\n",
    "\n",
    "    Args:\n",
    "        prompt_config (dict): A dictionary containing the prompt configuration with keys such as 'unique_name', 'task_category', 'system_prompt', etc.\n",
    "        input_text (str): The text to be summarized.\n",
    "\n",
    "    Returns:\n",
    "        str: The assistant's response (completion).\n",
    "\n",
    "    Raises:\n",
    "        Exception: If an error occurs during the OpenAI API call.\n",
    "    \"\"\"\n",
    "    try:\n",
    "        prompt_context = prompt_catalogue[prompt_catalogue[\"unique_name\"] == catalogue_item_name].iloc[0].to_dict()\n",
    "    except IndexError:\n",
    "        raise ValueError(f\"Unique name '{unique_name}' not found in the catalogue.\")\n",
    "    \n",
    "    # Extract the system prompt from the prompt configuration\n",
    "    system_prompt = prompt_context.get('system_prompt', 'You are a helpful chatbot.')\n",
    "    user_prompt_example = prompt_context.get('user_prompt_example')\n",
    "    assistant_response_example = prompt_context.get('assistant_response_example')\n",
    "    user_message = input_text\n",
    "    \n",
    "    # Prepare the messages for the API call\n",
    "    messages = [{\"role\": \"system\", \"content\": system_prompt}]\n",
    "    # Optionally, you can provide an example user message and assistant response \n",
    "    if  user_prompt_example and assistant_response_example:\n",
    "        messages.append( {\"role\": \"user\", \"content\": user_prompt_example} )\n",
    "        messages.append( {\"role\": \"assistant\", \"content\": assistant_response_example} )\n",
    "    messages.append({\"role\": \"user\", \"content\": user_message})\n",
    "\n",
    "    if verbose:\n",
    "        print(messages)\n",
    "    \n",
    "    client = openai.OpenAI(api_key=os.environ.get(\"OPENAI_API_KEY\"))\n",
    "    \n",
    "    try:\n",
    "        response = client.chat.completions.create(\n",
    "            messages=messages,\n",
    "            model=model_name,\n",
    "            temperature=temperature,    # You can adjust the temperature for creativity (0.7-1) or factual (0-0.5)\n",
    "        )\n",
    "        # Extract the assistant's reply\n",
    "        return response.choices[0].message.content\n",
    "         \n",
    "    except openai.OpenAIError as e:\n",
    "        raise Exception(f\"OpenAI API error: {str(e)}\")\n",
    "    except Exception as e:\n",
    "        raise Exception(f\"An unexpected error occurred: {str(e)}\")"
   ]
  },
  {
   "cell_type": "markdown",
   "id": "4a46fb5c-e177-4f8a-8292-d9aab387594a",
   "metadata": {},
   "source": [
    "\n",
    "# Read in MediaSUM data \n",
    "\n",
    "***MediaSUM Data Overview**\n",
    "MediaSum, a large-scale media interview dataset consisting of 463.6K transcripts with abstractive summaries. \n",
    "- CNN interviews use the Title as a one sentence summary\n",
    "- NPR provides human writen abstractive, 2-4 sentence summaries \n",
    "\n",
    "**Additional Processing:**\n",
    "- Applied categorical labels to CNN data based on program (e.g. CNN's \"Your money\" = \"busniness\")\n",
    "-  In this analysis we will use a  a smaller ~4k row dataset \n",
    "\n",
    "\n",
    "| Column Name                   | Datatype | Description                                                  |\n",
    "|-------------------------------|----------|--------------------------------------------------------------|\n",
    "| id                            | int      | Unique identifier for each record                            |\n",
    "| program_name                  | str      | Name of the program                                          |\n",
    "| air_date                      | int      | Air date of the program (timestamp)                          |\n",
    "| transcript_url                | str      | URL link to the transcript                                   |\n",
    "| title                         | str      | Title of the transcript                                      |\n",
    "| human_summary                 | str      | Human-generated summary for NPR, Title or tags for CNN       |\n",
    "| transcript_list               | list(str)| List of transcript segments                                  |\n",
    "| speaker_list                  | list(str)| List of speakers corresponding to transcript segments        |\n",
    "| news_agency                   | str      | News agency responsible for the program                      |\n",
    "| program_category              | str      | Category of the program                                      |\n",
    "| flat_transcript               | str      | Full transcript as a single string                           |\n",
    "| transcript_length             | int      | Length of the transcript (number of characters)              |\n",
    "| transcript_speaker_tuples     | list(toup)| List of tuples (speaker, transcript)                        |\n",
    "| flat_transcript_speaker       | str      | Formatted flat transcript with speaker labels                |\n",
    "\n",
    "Paper: [https://arxiv.org/abs/2103.06410]  - Chenguang Zhu et. all  \n",
    "Data: [https://github.com/zcgzcgzcg1/MediaSum/]"
   ]
  },
  {
   "cell_type": "code",
   "execution_count": 6,
   "id": "4f7155eb-3001-4021-84d8-bbe1609df616",
   "metadata": {},
   "outputs": [
    {
     "data": {
      "text/plain": [
       "news_agency\n",
       "CNN    Axes(0.125,0.11;0.775x0.77)\n",
       "NPR    Axes(0.125,0.11;0.775x0.77)\n",
       "Name: transcript_length, dtype: object"
      ]
     },
     "execution_count": 6,
     "metadata": {},
     "output_type": "execute_result"
    },
    {
     "data": {
      "image/png": "[encoded data removed]",
      "text/plain": [
       "<Figure size 640x480 with 1 Axes>"
      ]
     },
     "metadata": {},
     "output_type": "display_data"
    }
   ],
   "source": [
    "df = pd.read_json(\"MediaSUM_Short_Tiny_Oversampled.zip\", compression=\"zip\", lines=True)\n",
    "df[\"transcript_length\"].groupby(df[\"news_agency\"]).hist(bins=100)"
   ]
  },
  {
   "cell_type": "code",
   "execution_count": 34,
   "id": "e632b1ca-fb8b-486c-9516-753a4f4e5a0d",
   "metadata": {},
   "outputs": [
    {
     "data": {
      "text/html": [
       "<div>\n",
       "<style scoped>\n",
       "    .dataframe tbody tr th:only-of-type {\n",
       "        vertical-align: middle;\n",
       "    }\n",
       "\n",
       "    .dataframe tbody tr th {\n",
       "        vertical-align: top;\n",
       "    }\n",
       "\n",
       "    .dataframe thead tr th {\n",
       "        text-align: left;\n",
       "    }\n",
       "\n",
       "    .dataframe thead tr:last-of-type th {\n",
       "        text-align: right;\n",
       "    }\n",
       "</style>\n",
       "<table border=\"1\" class=\"dataframe\">\n",
       "  <thead>\n",
       "    <tr>\n",
       "      <th></th>\n",
       "      <th colspan=\"8\" halign=\"left\">transcript_length</th>\n",
       "    </tr>\n",
       "    <tr>\n",
       "      <th></th>\n",
       "      <th>count</th>\n",
       "      <th>mean</th>\n",
       "      <th>std</th>\n",
       "      <th>min</th>\n",
       "      <th>25%</th>\n",
       "      <th>50%</th>\n",
       "      <th>75%</th>\n",
       "      <th>max</th>\n",
       "    </tr>\n",
       "    <tr>\n",
       "      <th>news_agency</th>\n",
       "      <th></th>\n",
       "      <th></th>\n",
       "      <th></th>\n",
       "      <th></th>\n",
       "      <th></th>\n",
       "      <th></th>\n",
       "      <th></th>\n",
       "      <th></th>\n",
       "    </tr>\n",
       "  </thead>\n",
       "  <tbody>\n",
       "    <tr>\n",
       "      <th>CNN</th>\n",
       "      <td>2320.0</td>\n",
       "      <td>3749.790086</td>\n",
       "      <td>690.567234</td>\n",
       "      <td>2002.0</td>\n",
       "      <td>3319.75</td>\n",
       "      <td>3827.0</td>\n",
       "      <td>4249.25</td>\n",
       "      <td>4997.0</td>\n",
       "    </tr>\n",
       "    <tr>\n",
       "      <th>NPR</th>\n",
       "      <td>2108.0</td>\n",
       "      <td>3733.356736</td>\n",
       "      <td>713.347232</td>\n",
       "      <td>2007.0</td>\n",
       "      <td>3303.00</td>\n",
       "      <td>3801.5</td>\n",
       "      <td>4258.50</td>\n",
       "      <td>4999.0</td>\n",
       "    </tr>\n",
       "  </tbody>\n",
       "</table>\n",
       "</div>"
      ],
      "text/plain": [
       "            transcript_length                                            \\\n",
       "                        count         mean         std     min      25%   \n",
       "news_agency                                                               \n",
       "CNN                    2320.0  3749.790086  690.567234  2002.0  3319.75   \n",
       "NPR                    2108.0  3733.356736  713.347232  2007.0  3303.00   \n",
       "\n",
       "                                      \n",
       "                50%      75%     max  \n",
       "news_agency                           \n",
       "CNN          3827.0  4249.25  4997.0  \n",
       "NPR          3801.5  4258.50  4999.0  "
      ]
     },
     "execution_count": 34,
     "metadata": {},
     "output_type": "execute_result"
    }
   ],
   "source": [
    "df.groupby(\"news_agency\").describe()\n",
    "# Most transcripts will be within our token limit of about 4000 characters (1024 tokens) for bart"
   ]
  },
  {
   "cell_type": "code",
   "execution_count": 8,
   "id": "69287700-3025-4215-b1bc-d851d280fe71",
   "metadata": {},
   "outputs": [],
   "source": [
    "sm = df[(df[\"transcript_length\"] > 1000) & (df[\"transcript_length\"] < 6000)].sample(10) # smaller df\n"
   ]
  },
  {
   "cell_type": "markdown",
   "id": "5dc25176",
   "metadata": {},
   "source": [
    "#### Summarization Techniques\n",
    "\n",
    "**Bart**  \n",
    "[https://huggingface.co/philschmid/bart-large-cnn-samsum]\n",
    "\n",
    "**OpenAI - GTP-3**  \n",
    "[https://platform.openai.com/]\n",
    "\n",
    "**Expected Performance**  \n",
    "[https://arxiv.org/pdf/2103.06410]\n",
    "\n",
    "These inferance models will add the columns:\n",
    "| Column Name                   | Datatype | Description                                                  |\n",
    "|-------------------------------|----------|--------------------------------------------------------------|\n",
    "| bart-large-cnn-samsum-summary | str      | Summary generated by the BART model                          |\n",
    "| gtp_basic_instruct_summary    | str      | Summary generated by the GPT basic instruction model         |\n",
    "| gtp_coreference_summary       | str      | Summary generated by the GPT coreference model               |\n"
   ]
  },
  {
   "cell_type": "markdown",
   "id": "fdf7f8da-cbd6-4c88-a546-e5f04b2f2ee3",
   "metadata": {},
   "source": [
    "#### Get Bart Summaries"
   ]
  },
  {
   "cell_type": "code",
   "execution_count": 9,
   "id": "bb686f67-6adb-47ad-8931-2efcbdd9e812",
   "metadata": {},
   "outputs": [
    {
     "name": "stderr",
     "output_type": "stream",
     "text": [
      "--- Logging error ---\n",
      "Traceback (most recent call last):\n",
      "  File \"c:\\Users\\johnt\\.conda\\envs\\ds\\Lib\\logging\\__init__.py\", line 1160, in emit\n",
      "    msg = self.format(record)\n",
      "          ^^^^^^^^^^^^^^^^^^^\n",
      "  File \"c:\\Users\\johnt\\.conda\\envs\\ds\\Lib\\logging\\__init__.py\", line 999, in format\n",
      "    return fmt.format(record)\n",
      "           ^^^^^^^^^^^^^^^^^^\n",
      "  File \"c:\\Users\\johnt\\.conda\\envs\\ds\\Lib\\logging\\__init__.py\", line 703, in format\n",
      "    record.message = record.getMessage()\n",
      "                     ^^^^^^^^^^^^^^^^^^^\n",
      "  File \"c:\\Users\\johnt\\.conda\\envs\\ds\\Lib\\logging\\__init__.py\", line 392, in getMessage\n",
      "    msg = msg % self.args\n",
      "          ~~~~^~~~~~~~~~~\n",
      "TypeError: not all arguments converted during string formatting\n",
      "Call stack:\n",
      "  File \"<frozen runpy>\", line 198, in _run_module_as_main\n",
      "  File \"<frozen runpy>\", line 88, in _run_code\n",
      "  File \"c:\\Users\\johnt\\.conda\\envs\\ds\\Lib\\site-packages\\ipykernel_launcher.py\", line 17, in <module>\n",
      "    app.launch_new_instance()\n",
      "  File \"c:\\Users\\johnt\\.conda\\envs\\ds\\Lib\\site-packages\\traitlets\\config\\application.py\", line 1075, in launch_instance\n",
      "    app.start()\n",
      "  File \"c:\\Users\\johnt\\.conda\\envs\\ds\\Lib\\site-packages\\ipykernel\\kernelapp.py\", line 701, in start\n",
      "    self.io_loop.start()\n",
      "  File \"c:\\Users\\johnt\\.conda\\envs\\ds\\Lib\\site-packages\\tornado\\platform\\asyncio.py\", line 205, in start\n",
      "    self.asyncio_loop.run_forever()\n",
      "  File \"c:\\Users\\johnt\\.conda\\envs\\ds\\Lib\\asyncio\\windows_events.py\", line 322, in run_forever\n",
      "    super().run_forever()\n",
      "  File \"c:\\Users\\johnt\\.conda\\envs\\ds\\Lib\\asyncio\\base_events.py\", line 641, in run_forever\n",
      "    self._run_once()\n",
      "  File \"c:\\Users\\johnt\\.conda\\envs\\ds\\Lib\\asyncio\\base_events.py\", line 1986, in _run_once\n",
      "    handle._run()\n",
      "  File \"c:\\Users\\johnt\\.conda\\envs\\ds\\Lib\\asyncio\\events.py\", line 88, in _run\n",
      "    self._context.run(self._callback, *self._args)\n",
      "  File \"c:\\Users\\johnt\\.conda\\envs\\ds\\Lib\\site-packages\\ipykernel\\kernelbase.py\", line 534, in dispatch_queue\n",
      "    await self.process_one()\n",
      "  File \"c:\\Users\\johnt\\.conda\\envs\\ds\\Lib\\site-packages\\ipykernel\\kernelbase.py\", line 523, in process_one\n",
      "    await dispatch(*args)\n",
      "  File \"c:\\Users\\johnt\\.conda\\envs\\ds\\Lib\\site-packages\\ipykernel\\kernelbase.py\", line 429, in dispatch_shell\n",
      "    await result\n",
      "  File \"c:\\Users\\johnt\\.conda\\envs\\ds\\Lib\\site-packages\\ipykernel\\kernelbase.py\", line 767, in execute_request\n",
      "    reply_content = await reply_content\n",
      "  File \"c:\\Users\\johnt\\.conda\\envs\\ds\\Lib\\site-packages\\ipykernel\\ipkernel.py\", line 429, in do_execute\n",
      "    res = shell.run_cell(\n",
      "  File \"c:\\Users\\johnt\\.conda\\envs\\ds\\Lib\\site-packages\\ipykernel\\zmqshell.py\", line 549, in run_cell\n",
      "    return super().run_cell(*args, **kwargs)\n",
      "  File \"c:\\Users\\johnt\\.conda\\envs\\ds\\Lib\\site-packages\\IPython\\core\\interactiveshell.py\", line 3075, in run_cell\n",
      "    result = self._run_cell(\n",
      "  File \"c:\\Users\\johnt\\.conda\\envs\\ds\\Lib\\site-packages\\IPython\\core\\interactiveshell.py\", line 3130, in _run_cell\n",
      "    result = runner(coro)\n",
      "  File \"c:\\Users\\johnt\\.conda\\envs\\ds\\Lib\\site-packages\\IPython\\core\\async_helpers.py\", line 128, in _pseudo_sync_runner\n",
      "    coro.send(None)\n",
      "  File \"c:\\Users\\johnt\\.conda\\envs\\ds\\Lib\\site-packages\\IPython\\core\\interactiveshell.py\", line 3334, in run_cell_async\n",
      "    has_raised = await self.run_ast_nodes(code_ast.body, cell_name,\n",
      "  File \"c:\\Users\\johnt\\.conda\\envs\\ds\\Lib\\site-packages\\IPython\\core\\interactiveshell.py\", line 3517, in run_ast_nodes\n",
      "    if await self.run_code(code, result, async_=asy):\n",
      "  File \"c:\\Users\\johnt\\.conda\\envs\\ds\\Lib\\site-packages\\IPython\\core\\interactiveshell.py\", line 3577, in run_code\n",
      "    exec(code_obj, self.user_global_ns, self.user_ns)\n",
      "  File \"C:\\Users\\johnt\\AppData\\Local\\Temp\\ipykernel_2832\\3453671019.py\", line 1, in <module>\n",
      "    sm[\"bart-large-cnn-samsum-summary\"] = sm.flat_transcript.apply( lambda s : clean_bart_summary_chunk(bart_summarizer, s) )\n",
      "  File \"c:\\Users\\johnt\\.conda\\envs\\ds\\Lib\\site-packages\\pandas\\core\\series.py\", line 4924, in apply\n",
      "    ).apply()\n",
      "  File \"c:\\Users\\johnt\\.conda\\envs\\ds\\Lib\\site-packages\\pandas\\core\\apply.py\", line 1427, in apply\n",
      "    return self.apply_standard()\n",
      "  File \"c:\\Users\\johnt\\.conda\\envs\\ds\\Lib\\site-packages\\pandas\\core\\apply.py\", line 1507, in apply_standard\n",
      "    mapped = obj._map_values(\n",
      "  File \"c:\\Users\\johnt\\.conda\\envs\\ds\\Lib\\site-packages\\pandas\\core\\base.py\", line 921, in _map_values\n",
      "    return algorithms.map_array(arr, mapper, na_action=na_action, convert=convert)\n",
      "  File \"c:\\Users\\johnt\\.conda\\envs\\ds\\Lib\\site-packages\\pandas\\core\\algorithms.py\", line 1743, in map_array\n",
      "    return lib.map_infer(values, mapper, convert=convert)\n",
      "  File \"C:\\Users\\johnt\\AppData\\Local\\Temp\\ipykernel_2832\\3453671019.py\", line 1, in <lambda>\n",
      "    sm[\"bart-large-cnn-samsum-summary\"] = sm.flat_transcript.apply( lambda s : clean_bart_summary_chunk(bart_summarizer, s) )\n",
      "  File \"C:\\Users\\johnt\\AppData\\Local\\Temp\\ipykernel_2832\\628526612.py\", line 40, in clean_bart_summary_chunk\n",
      "    summaries.append( inference_model(chunk)[0][\"summary_text\"])\n",
      "  File \"c:\\Users\\johnt\\.conda\\envs\\ds\\Lib\\site-packages\\transformers\\pipelines\\text2text_generation.py\", line 269, in __call__\n",
      "    return super().__call__(*args, **kwargs)\n",
      "  File \"c:\\Users\\johnt\\.conda\\envs\\ds\\Lib\\site-packages\\transformers\\pipelines\\text2text_generation.py\", line 167, in __call__\n",
      "    result = super().__call__(*args, **kwargs)\n",
      "  File \"c:\\Users\\johnt\\.conda\\envs\\ds\\Lib\\site-packages\\transformers\\pipelines\\base.py\", line 1167, in __call__\n",
      "    logger.warning_once(\n",
      "  File \"c:\\Users\\johnt\\.conda\\envs\\ds\\Lib\\site-packages\\transformers\\utils\\logging.py\", line 329, in warning_once\n",
      "    self.warning(*args, **kwargs)\n",
      "Message: 'You seem to be using the pipelines sequentially on GPU. In order to maximize efficiency please use a dataset'\n",
      "Arguments: (<class 'UserWarning'>,)\n"
     ]
    }
   ],
   "source": [
    "sm[\"bart-large-cnn-samsum-summary\"] = sm.flat_transcript.apply( lambda s : clean_bart_summary_chunk(bart_summarizer, s) )"
   ]
  },
  {
   "cell_type": "code",
   "execution_count": 10,
   "id": "1a20c420",
   "metadata": {},
   "outputs": [
    {
     "data": {
      "text/plain": [
       "'Angelica Jade Bastien is a staff writer for Vulture. She liked the new superhero movie \"Justice League\" and \"Mudbound\" very much. She also liked another movie with Oscar buzz, \"The Artist\" which is about a family in the Mississippi Delta in the 1940s.'"
      ]
     },
     "execution_count": 10,
     "metadata": {},
     "output_type": "execute_result"
    }
   ],
   "source": [
    "#Example\n",
    "sm[\"bart-large-cnn-samsum-summary\"].iloc[1]"
   ]
  },
  {
   "cell_type": "code",
   "execution_count": 11,
   "id": "4b9df2b7-8e5e-4177-a179-c7b7284ac923",
   "metadata": {},
   "outputs": [],
   "source": [
    "with torch.no_grad():\n",
    "    torch.cuda.empty_cache()"
   ]
  },
  {
   "cell_type": "markdown",
   "id": "8aecaf55-f13b-490c-91df-749304509874",
   "metadata": {},
   "source": [
    "#### Get GPT Summaries"
   ]
  },
  {
   "cell_type": "code",
   "execution_count": 12,
   "id": "3833a2a5-1726-44a5-9134-1a34fd22da3d",
   "metadata": {},
   "outputs": [
    {
     "data": {
      "text/html": [
       "<div>\n",
       "<style scoped>\n",
       "    .dataframe tbody tr th:only-of-type {\n",
       "        vertical-align: middle;\n",
       "    }\n",
       "\n",
       "    .dataframe tbody tr th {\n",
       "        vertical-align: top;\n",
       "    }\n",
       "\n",
       "    .dataframe thead th {\n",
       "        text-align: right;\n",
       "    }\n",
       "</style>\n",
       "<table border=\"1\" class=\"dataframe\">\n",
       "  <thead>\n",
       "    <tr style=\"text-align: right;\">\n",
       "      <th></th>\n",
       "      <th>unique_name</th>\n",
       "      <th>task_category</th>\n",
       "      <th>system_prompt</th>\n",
       "      <th>user_prompt_example</th>\n",
       "      <th>assistant_response_example</th>\n",
       "    </tr>\n",
       "  </thead>\n",
       "  <tbody>\n",
       "    <tr>\n",
       "      <th>0</th>\n",
       "      <td>summarize_contextual_coreference</td>\n",
       "      <td>summarization</td>\n",
       "      <td>You are a helpful assistant that summarizes te...</td>\n",
       "      <td>Jeff: Can I train a Transformers model on Amaz...</td>\n",
       "      <td>Jeff wants to train a Transformers model on Am...</td>\n",
       "    </tr>\n",
       "    <tr>\n",
       "      <th>1</th>\n",
       "      <td>summarize_basic_instruction</td>\n",
       "      <td>summarization</td>\n",
       "      <td>Summarize the given dialogue text in two to th...</td>\n",
       "      <td>If you or someone you know is out of a job, th...</td>\n",
       "      <td>Etiquette expert Peter Post advises people to ...</td>\n",
       "    </tr>\n",
       "    <tr>\n",
       "      <th>2</th>\n",
       "      <td>summarize_coreference</td>\n",
       "      <td>summarization</td>\n",
       "      <td>You are bot that summarizes text using a co-re...</td>\n",
       "      <td>If you or someone you know is out of a job, th...</td>\n",
       "      <td>Career coach Ellen Gordon Reeves wants you to ...</td>\n",
       "    </tr>\n",
       "  </tbody>\n",
       "</table>\n",
       "</div>"
      ],
      "text/plain": [
       "                        unique_name  task_category  \\\n",
       "0  summarize_contextual_coreference  summarization   \n",
       "1       summarize_basic_instruction  summarization   \n",
       "2             summarize_coreference  summarization   \n",
       "\n",
       "                                       system_prompt  \\\n",
       "0  You are a helpful assistant that summarizes te...   \n",
       "1  Summarize the given dialogue text in two to th...   \n",
       "2  You are bot that summarizes text using a co-re...   \n",
       "\n",
       "                                 user_prompt_example  \\\n",
       "0  Jeff: Can I train a Transformers model on Amaz...   \n",
       "1  If you or someone you know is out of a job, th...   \n",
       "2  If you or someone you know is out of a job, th...   \n",
       "\n",
       "                          assistant_response_example  \n",
       "0  Jeff wants to train a Transformers model on Am...  \n",
       "1  Etiquette expert Peter Post advises people to ...  \n",
       "2  Career coach Ellen Gordon Reeves wants you to ...  "
      ]
     },
     "execution_count": 12,
     "metadata": {},
     "output_type": "execute_result"
    }
   ],
   "source": [
    "prompt_catalogue = pd.read_excel(\"openai-api-prompts.xlsx\", sheet_name=\"one-shot\")\n",
    "prompt_catalogue.head()"
   ]
  },
  {
   "cell_type": "code",
   "execution_count": 13,
   "id": "7c930275-91c4-401e-a93b-7bbe79be5ab4",
   "metadata": {},
   "outputs": [],
   "source": [
    "sm[\"gtp_basic_instruct_summary\"] = sm.flat_transcript.apply(lambda s : get_template_completion(\"summarize_basic_instruction\", prompt_catalogue, s) )"
   ]
  },
  {
   "cell_type": "code",
   "execution_count": 15,
   "id": "a6c28410-4faa-485f-9b92-24477c2b1006",
   "metadata": {},
   "outputs": [],
   "source": [
    "sm[\"gtp_coreference_summary\"] = sm.flat_transcript.apply(lambda s : get_template_completion(\"summarize_coreference\", prompt_catalogue, s) )"
   ]
  },
  {
   "cell_type": "markdown",
   "id": "d23edd52",
   "metadata": {},
   "source": [
    "#### Compare the summaries  \n",
    "ROUGE-N — measures unigram, bigram, trigram and higher order n-gram overlap  \n",
    "ROUGE-L — measures longest matching sequence of words using LCS. An advantage of using LCS is that it does not require consecutive matches but in-sequence matches that reflect sentence level word order. Since it automatically includes longest in-sequence common n-grams, you don’t need a predefined n-gram length.  \n",
    "ROUGE-S — Is any pair of words in a sentence in order, allowing for arbitrary gaps. This can also be called skip-gram concurrence  \n",
    "\n",
    "**State of the Art**   \n",
    "Rouge ~0.45  \n",
    "F1 ~0.79   \n",
    "\n",
    "Source: \n",
    "\n",
    "**How can you Interpret the ROUGE Scores?**  \n",
    "ROUGE scores can vary depending on the type of text and the specific metric being used. Here’s how to interpret these scores:  \n",
    "\n",
    "*High Precision but Low Recall*: This indicates that the candidate text includes accurate information but may have omitted some crucial details from the reference text. This might happen in cases where the summary is too concise.   \n",
    "\n",
    "*Low Precision but High Recall*: This suggests that the candidate text captures most of the reference text’s content but includes additional, possibly irrelevant, information. This might occur if the summary is too lengthy.  \n",
    "\n",
    "*Balanced Precision and Recall (High F1-Score)*: A high F1-score indicates that the candidate text balances relevance and completeness well. This is often the desired outcome, especially in summarisation tasks where coverage and conciseness are essential.  .4 is considered very good.\n",
    "\n",
    "**Sources**  \n",
    "USB: A Unified Summarization Benchmark Across Tasks and Domains [https://arxiv.org/abs/2305.14296]    \n",
    "[https://www.freecodecamp.org/news/what-is-rouge-and-how-it-works-for-evaluation-of-summaries-e059fb8ac840/]  \n",
    "[https://spotintelligence.com/2024/08/12/rouge-metric-in-nlp/]  "
   ]
  },
  {
   "cell_type": "code",
   "execution_count": 17,
   "id": "c10e012a-b831-401e-b7e6-ca455d199c1a",
   "metadata": {},
   "outputs": [
    {
     "data": {
      "text/html": [
       "<div>\n",
       "<style scoped>\n",
       "    .dataframe tbody tr th:only-of-type {\n",
       "        vertical-align: middle;\n",
       "    }\n",
       "\n",
       "    .dataframe tbody tr th {\n",
       "        vertical-align: top;\n",
       "    }\n",
       "\n",
       "    .dataframe thead th {\n",
       "        text-align: right;\n",
       "    }\n",
       "</style>\n",
       "<table border=\"1\" class=\"dataframe\">\n",
       "  <thead>\n",
       "    <tr style=\"text-align: right;\">\n",
       "      <th></th>\n",
       "      <th>id</th>\n",
       "      <th>program_name</th>\n",
       "      <th>air_date</th>\n",
       "      <th>transcript_url</th>\n",
       "      <th>title</th>\n",
       "      <th>human_summary</th>\n",
       "      <th>transcript_list</th>\n",
       "      <th>speaker_list</th>\n",
       "      <th>news_agency</th>\n",
       "      <th>program_category</th>\n",
       "      <th>flat_transcript</th>\n",
       "      <th>transcript_length</th>\n",
       "      <th>transcript_speaker_tuples</th>\n",
       "      <th>flat_transcript_speaker</th>\n",
       "      <th>bart-large-cnn-samsum-summary</th>\n",
       "      <th>gtp_basic_instruct_summary</th>\n",
       "      <th>gtp_coreference_summary</th>\n",
       "    </tr>\n",
       "  </thead>\n",
       "  <tbody>\n",
       "    <tr>\n",
       "      <th>3920</th>\n",
       "      <td>NPR-32133</td>\n",
       "      <td>morning edition</td>\n",
       "      <td>1265587200000</td>\n",
       "      <td>https://www.npr.org/templates/story/story.php?storyId=123485271</td>\n",
       "      <td>Japan Braces For More Recalls From Toyota</td>\n",
       "      <td>The Japanese press report Toyota is considering even more recalls. This time the recalls would involve 2010 Prius and the Lexus and Sai hybrids — they all share the same brake glitch. The recalls could be announced as early as Tuesday. For decades, Toyota has been one of the main drivers of the Japanese economy but its reputation has been sullied.</td>\n",
       "      <td>[Its MORNING EDITION from NPR News. Good morning. Im Renee Montagne., And Im Steve Inskeep., Toyota is preparing for what may be another week of recalls. This is the week the giant automaker is expected to answer complaints about braking systems on popular cars., The New York Times and the Reuters news service say the company is planning to recall hundreds of thousands of hybrid cars. The recall could include the 2010 Prius., Theres also a Lexus hybrid., And a third hybrid, recently marketed...</td>\n",
       "      <td>[RENEE MONTAGNE, host, STEVE INSKEEP, host, STEVE INSKEEP, host, RENEE MONTAGNE, host, STEVE INSKEEP, host, RENEE MONTAGNE, host, STEVE INSKEEP, host, STEVE INSKEEP, host, LOUISA LIM, Mr. SUICHI MASAMOTO, LOUISA LIM, Mr. TATSUYA MIZUNO (President, Mizuno Credit Advisory), LOUISA LIM, Mr. TATSUYA MIZUNO (President, Mizuno Credit Advisory), LOUISA LIM, Professor KENNETH GROSSBERG (Waseda University), LOUISA LIM, Professor KENNETH GROSSBERG (Waseda University), LOUISA LIM, LOUISA LIM]</td>\n",
       "      <td>NPR</td>\n",
       "      <td>null</td>\n",
       "      <td>Its MORNING EDITION from NPR News. Good morning. Im Renee Montagne.\\n  And Im Steve Inskeep.\\n  Toyota is preparing for what may be another week of recalls. This is the week the giant automaker is expected to answer complaints about braking systems on popular cars.\\n  The New York Times and the Reuters news service say the company is planning to recall hundreds of thousands of hybrid cars. The recall could include the 2010 Prius.\\n  Theres also a Lexus hybrid.\\n  And a third hybrid, recently...</td>\n",
       "      <td>4277</td>\n",
       "      <td>[[RENEE MONTAGNE, host, Its MORNING EDITION from NPR News. Good morning. Im Renee Montagne.], [STEVE INSKEEP, host, And Im Steve Inskeep.], [STEVE INSKEEP, host, Toyota is preparing for what may be another week of recalls. This is the week the giant automaker is expected to answer complaints about braking systems on popular cars.], [RENEE MONTAGNE, host, The New York Times and the Reuters news service say the company is planning to recall hundreds of thousands of hybrid cars. The recall coul...</td>\n",
       "      <td>RENEE MONTAGNE, host: Its MORNING EDITION from NPR News. Good morning. Im Renee Montagne.\\nSTEVE INSKEEP, host: And Im Steve Inskeep.\\nSTEVE INSKEEP, host: Toyota is preparing for what may be another week of recalls. This is the week the giant automaker is expected to answer complaints about braking systems on popular cars.\\nRENEE MONTAGNE, host: The New York Times and the Reuters news service say the company is planning to recall hundreds of thousands of hybrid cars. The recall could includ...</td>\n",
       "      <td>This morning on NPR News, Renee Montagne, Steve Inskeep and Louisa Lim report on the possible recall of hundreds of thousands of hybrid cars by Toyota. In Japan, Toyota is bracing itself for another week of recalls. The company has already recalled 8 million cars for other defects, including the 2010 Prius.\\neen criticized here, with the press turning on CEO Akio Toyoda for an apology which was seen as insincere. Most are desperately hoping that Toyota is learning from its mistakes. For the ...</td>\n",
       "      <td>Toyota is expected to recall hundreds of thousands of hybrid cars, including the 2010 Prius, due to braking system complaints. The recalls have had a significant impact on Toyota City, affecting tax revenues and the economy. The crisis is not only affecting Toyota but also has broader implications for the reputation of Japanese auto companies and their market share in the global sector.</td>\n",
       "      <td>Toyota is preparing for what may be another week of recalls, expected to include hundreds of thousands of hybrid cars like the 2010 Prius. The automaker has already recalled 8 million cars for other defects, impacting Japans economy. The Prius, a symbol of Japanese technological ability, faces flaws that are devastating for the national icon. The fallout from Toyotas recalls is significant, affecting the companys reputation and potentially the entire Japanese auto industry. The crisis at Toy...</td>\n",
       "    </tr>\n",
       "  </tbody>\n",
       "</table>\n",
       "</div>"
      ],
      "text/plain": [
       "             id     program_name       air_date  \\\n",
       "3920  NPR-32133  morning edition  1265587200000   \n",
       "\n",
       "                                                       transcript_url  \\\n",
       "3920  https://www.npr.org/templates/story/story.php?storyId=123485271   \n",
       "\n",
       "                                          title  \\\n",
       "3920  Japan Braces For More Recalls From Toyota   \n",
       "\n",
       "                                                                                                                                                                                                                                                                                                                                                      human_summary  \\\n",
       "3920  The Japanese press report Toyota is considering even more recalls. This time the recalls would involve 2010 Prius and the Lexus and Sai hybrids — they all share the same brake glitch. The recalls could be announced as early as Tuesday. For decades, Toyota has been one of the main drivers of the Japanese economy but its reputation has been sullied.   \n",
       "\n",
       "                                                                                                                                                                                                                                                                                                                                                                                                                                                                                                          transcript_list  \\\n",
       "3920  [Its MORNING EDITION from NPR News. Good morning. Im Renee Montagne., And Im Steve Inskeep., Toyota is preparing for what may be another week of recalls. This is the week the giant automaker is expected to answer complaints about braking systems on popular cars., The New York Times and the Reuters news service say the company is planning to recall hundreds of thousands of hybrid cars. The recall could include the 2010 Prius., Theres also a Lexus hybrid., And a third hybrid, recently marketed...   \n",
       "\n",
       "                                                                                                                                                                                                                                                                                                                                                                                                                                                                                                speaker_list  \\\n",
       "3920  [RENEE MONTAGNE, host, STEVE INSKEEP, host, STEVE INSKEEP, host, RENEE MONTAGNE, host, STEVE INSKEEP, host, RENEE MONTAGNE, host, STEVE INSKEEP, host, STEVE INSKEEP, host, LOUISA LIM, Mr. SUICHI MASAMOTO, LOUISA LIM, Mr. TATSUYA MIZUNO (President, Mizuno Credit Advisory), LOUISA LIM, Mr. TATSUYA MIZUNO (President, Mizuno Credit Advisory), LOUISA LIM, Professor KENNETH GROSSBERG (Waseda University), LOUISA LIM, Professor KENNETH GROSSBERG (Waseda University), LOUISA LIM, LOUISA LIM]   \n",
       "\n",
       "     news_agency program_category  \\\n",
       "3920         NPR             null   \n",
       "\n",
       "                                                                                                                                                                                                                                                                                                                                                                                                                                                                                                          flat_transcript  \\\n",
       "3920  Its MORNING EDITION from NPR News. Good morning. Im Renee Montagne.\\n  And Im Steve Inskeep.\\n  Toyota is preparing for what may be another week of recalls. This is the week the giant automaker is expected to answer complaints about braking systems on popular cars.\\n  The New York Times and the Reuters news service say the company is planning to recall hundreds of thousands of hybrid cars. The recall could include the 2010 Prius.\\n  Theres also a Lexus hybrid.\\n  And a third hybrid, recently...   \n",
       "\n",
       "      transcript_length  \\\n",
       "3920               4277   \n",
       "\n",
       "                                                                                                                                                                                                                                                                                                                                                                                                                                                                                                transcript_speaker_tuples  \\\n",
       "3920  [[RENEE MONTAGNE, host, Its MORNING EDITION from NPR News. Good morning. Im Renee Montagne.], [STEVE INSKEEP, host, And Im Steve Inskeep.], [STEVE INSKEEP, host, Toyota is preparing for what may be another week of recalls. This is the week the giant automaker is expected to answer complaints about braking systems on popular cars.], [RENEE MONTAGNE, host, The New York Times and the Reuters news service say the company is planning to recall hundreds of thousands of hybrid cars. The recall coul...   \n",
       "\n",
       "                                                                                                                                                                                                                                                                                                                                                                                                                                                                                                  flat_transcript_speaker  \\\n",
       "3920  RENEE MONTAGNE, host: Its MORNING EDITION from NPR News. Good morning. Im Renee Montagne.\\nSTEVE INSKEEP, host: And Im Steve Inskeep.\\nSTEVE INSKEEP, host: Toyota is preparing for what may be another week of recalls. This is the week the giant automaker is expected to answer complaints about braking systems on popular cars.\\nRENEE MONTAGNE, host: The New York Times and the Reuters news service say the company is planning to recall hundreds of thousands of hybrid cars. The recall could includ...   \n",
       "\n",
       "                                                                                                                                                                                                                                                                                                                                                                                                                                                                                            bart-large-cnn-samsum-summary  \\\n",
       "3920  This morning on NPR News, Renee Montagne, Steve Inskeep and Louisa Lim report on the possible recall of hundreds of thousands of hybrid cars by Toyota. In Japan, Toyota is bracing itself for another week of recalls. The company has already recalled 8 million cars for other defects, including the 2010 Prius.\\neen criticized here, with the press turning on CEO Akio Toyoda for an apology which was seen as insincere. Most are desperately hoping that Toyota is learning from its mistakes. For the ...   \n",
       "\n",
       "                                                                                                                                                                                                                                                                                                                                                                                 gtp_basic_instruct_summary  \\\n",
       "3920  Toyota is expected to recall hundreds of thousands of hybrid cars, including the 2010 Prius, due to braking system complaints. The recalls have had a significant impact on Toyota City, affecting tax revenues and the economy. The crisis is not only affecting Toyota but also has broader implications for the reputation of Japanese auto companies and their market share in the global sector.   \n",
       "\n",
       "                                                                                                                                                                                                                                                                                                                                                                                                                                                                                                  gtp_coreference_summary  \n",
       "3920  Toyota is preparing for what may be another week of recalls, expected to include hundreds of thousands of hybrid cars like the 2010 Prius. The automaker has already recalled 8 million cars for other defects, impacting Japans economy. The Prius, a symbol of Japanese technological ability, faces flaws that are devastating for the national icon. The fallout from Toyotas recalls is significant, affecting the companys reputation and potentially the entire Japanese auto industry. The crisis at Toy...  "
      ]
     },
     "execution_count": 17,
     "metadata": {},
     "output_type": "execute_result"
    }
   ],
   "source": [
    "pd.set_option('display.max_colwidth', 500) \n",
    "sm.head(1)"
   ]
  },
  {
   "cell_type": "code",
   "execution_count": 35,
   "id": "d7003cfd-3483-41ce-8e4b-6155670bcf10",
   "metadata": {},
   "outputs": [],
   "source": [
    "\n",
    "# Initialize the ROUGE scorer\n",
    "rouge_1 = rouge_scorer.RougeScorer(['rouge1'], use_stemmer=True)\n",
    "\n",
    "# Apply the scorer to each row and expand the results into new columns\n",
    "\n",
    "summary_cols = [\"bart-large-cnn-samsum-summary\", \"gtp_basic_instruct_summary\", \"gtp_coreference_summary\"]\n",
    "nick_names = [\"bart\", \"gtp_basic\", \"gtp_coreference\"]\n",
    "\n",
    "sm[['bart_rouge1_precision', 'bart_rouge1_recall', 'bart_rouge1_f']] = sm.apply(\n",
    "    lambda row: pd.Series(rouge_1.score(row['human_summary'], row['bart-large-cnn-samsum-summary'])['rouge1']),\n",
    "    axis=1\n",
    ")\n",
    "\n",
    "sm[['gtp_basic_rouge1_precision', 'gtp_basic_rouge1_recall', 'gtp_basic_rouge1_f']] = sm.apply(\n",
    "    lambda row: pd.Series(rouge_1.score(row['human_summary'], row['gtp_basic_instruct_summary'])['rouge1']),\n",
    "    axis=1\n",
    ")\n",
    "\n",
    "sm[['gtp_coreference_rouge1_precision', 'gtp_coreference_rouge1_recall', 'gtp_coreference_rouge1_f']] = sm.apply(\n",
    "    lambda row: pd.Series(rouge_1.score(row['human_summary'], row['gtp_coreference_summary'])['rouge1']),\n",
    "    axis=1\n",
    ")\n",
    "\n",
    "\n",
    "\n"
   ]
  },
  {
   "cell_type": "code",
   "execution_count": 36,
   "id": "f8b1278c",
   "metadata": {},
   "outputs": [
    {
     "data": {
      "text/html": [
       "<div>\n",
       "<style scoped>\n",
       "    .dataframe tbody tr th:only-of-type {\n",
       "        vertical-align: middle;\n",
       "    }\n",
       "\n",
       "    .dataframe tbody tr th {\n",
       "        vertical-align: top;\n",
       "    }\n",
       "\n",
       "    .dataframe thead th {\n",
       "        text-align: right;\n",
       "    }\n",
       "</style>\n",
       "<table border=\"1\" class=\"dataframe\">\n",
       "  <thead>\n",
       "    <tr style=\"text-align: right;\">\n",
       "      <th></th>\n",
       "      <th>count</th>\n",
       "      <th>mean</th>\n",
       "      <th>std</th>\n",
       "      <th>min</th>\n",
       "      <th>25%</th>\n",
       "      <th>50%</th>\n",
       "      <th>75%</th>\n",
       "      <th>max</th>\n",
       "    </tr>\n",
       "  </thead>\n",
       "  <tbody>\n",
       "    <tr>\n",
       "      <th>transcript_length</th>\n",
       "      <td>10.0</td>\n",
       "      <td>3372.700000</td>\n",
       "      <td>724.261931</td>\n",
       "      <td>2608.0</td>\n",
       "      <td>2773.250000</td>\n",
       "      <td>3242.000000</td>\n",
       "      <td>3769.250000</td>\n",
       "      <td>4712.000000</td>\n",
       "    </tr>\n",
       "    <tr>\n",
       "      <th>bart_rouge1_precision</th>\n",
       "      <td>10.0</td>\n",
       "      <td>0.153136</td>\n",
       "      <td>0.184050</td>\n",
       "      <td>0.0</td>\n",
       "      <td>0.003623</td>\n",
       "      <td>0.070960</td>\n",
       "      <td>0.265152</td>\n",
       "      <td>0.520000</td>\n",
       "    </tr>\n",
       "    <tr>\n",
       "      <th>bart_rouge1_recall</th>\n",
       "      <td>10.0</td>\n",
       "      <td>0.222316</td>\n",
       "      <td>0.230350</td>\n",
       "      <td>0.0</td>\n",
       "      <td>0.011364</td>\n",
       "      <td>0.147436</td>\n",
       "      <td>0.427586</td>\n",
       "      <td>0.553191</td>\n",
       "    </tr>\n",
       "    <tr>\n",
       "      <th>bart_rouge1_f</th>\n",
       "      <td>10.0</td>\n",
       "      <td>0.171656</td>\n",
       "      <td>0.194136</td>\n",
       "      <td>0.0</td>\n",
       "      <td>0.005495</td>\n",
       "      <td>0.083198</td>\n",
       "      <td>0.326642</td>\n",
       "      <td>0.536082</td>\n",
       "    </tr>\n",
       "    <tr>\n",
       "      <th>gtp_basic_rouge1_precision</th>\n",
       "      <td>10.0</td>\n",
       "      <td>0.143539</td>\n",
       "      <td>0.164043</td>\n",
       "      <td>0.0</td>\n",
       "      <td>0.018426</td>\n",
       "      <td>0.044071</td>\n",
       "      <td>0.280542</td>\n",
       "      <td>0.412698</td>\n",
       "    </tr>\n",
       "    <tr>\n",
       "      <th>gtp_basic_rouge1_recall</th>\n",
       "      <td>10.0</td>\n",
       "      <td>0.237970</td>\n",
       "      <td>0.210947</td>\n",
       "      <td>0.0</td>\n",
       "      <td>0.100233</td>\n",
       "      <td>0.174242</td>\n",
       "      <td>0.398276</td>\n",
       "      <td>0.638298</td>\n",
       "    </tr>\n",
       "    <tr>\n",
       "      <th>gtp_basic_rouge1_f</th>\n",
       "      <td>10.0</td>\n",
       "      <td>0.168669</td>\n",
       "      <td>0.182741</td>\n",
       "      <td>0.0</td>\n",
       "      <td>0.031960</td>\n",
       "      <td>0.064489</td>\n",
       "      <td>0.309387</td>\n",
       "      <td>0.458015</td>\n",
       "    </tr>\n",
       "    <tr>\n",
       "      <th>gtp_coreference_rouge1_precision</th>\n",
       "      <td>10.0</td>\n",
       "      <td>0.099618</td>\n",
       "      <td>0.107617</td>\n",
       "      <td>0.0</td>\n",
       "      <td>0.015708</td>\n",
       "      <td>0.038741</td>\n",
       "      <td>0.210915</td>\n",
       "      <td>0.254386</td>\n",
       "    </tr>\n",
       "    <tr>\n",
       "      <th>gtp_coreference_rouge1_recall</th>\n",
       "      <td>10.0</td>\n",
       "      <td>0.312196</td>\n",
       "      <td>0.232610</td>\n",
       "      <td>0.0</td>\n",
       "      <td>0.130245</td>\n",
       "      <td>0.257576</td>\n",
       "      <td>0.495833</td>\n",
       "      <td>0.657895</td>\n",
       "    </tr>\n",
       "    <tr>\n",
       "      <th>gtp_coreference_rouge1_f</th>\n",
       "      <td>10.0</td>\n",
       "      <td>0.142713</td>\n",
       "      <td>0.146611</td>\n",
       "      <td>0.0</td>\n",
       "      <td>0.027551</td>\n",
       "      <td>0.057377</td>\n",
       "      <td>0.294824</td>\n",
       "      <td>0.345679</td>\n",
       "    </tr>\n",
       "  </tbody>\n",
       "</table>\n",
       "</div>"
      ],
      "text/plain": [
       "                                  count         mean         std     min  \\\n",
       "transcript_length                  10.0  3372.700000  724.261931  2608.0   \n",
       "bart_rouge1_precision              10.0     0.153136    0.184050     0.0   \n",
       "bart_rouge1_recall                 10.0     0.222316    0.230350     0.0   \n",
       "bart_rouge1_f                      10.0     0.171656    0.194136     0.0   \n",
       "gtp_basic_rouge1_precision         10.0     0.143539    0.164043     0.0   \n",
       "gtp_basic_rouge1_recall            10.0     0.237970    0.210947     0.0   \n",
       "gtp_basic_rouge1_f                 10.0     0.168669    0.182741     0.0   \n",
       "gtp_coreference_rouge1_precision   10.0     0.099618    0.107617     0.0   \n",
       "gtp_coreference_rouge1_recall      10.0     0.312196    0.232610     0.0   \n",
       "gtp_coreference_rouge1_f           10.0     0.142713    0.146611     0.0   \n",
       "\n",
       "                                          25%          50%          75%  \\\n",
       "transcript_length                 2773.250000  3242.000000  3769.250000   \n",
       "bart_rouge1_precision                0.003623     0.070960     0.265152   \n",
       "bart_rouge1_recall                   0.011364     0.147436     0.427586   \n",
       "bart_rouge1_f                        0.005495     0.083198     0.326642   \n",
       "gtp_basic_rouge1_precision           0.018426     0.044071     0.280542   \n",
       "gtp_basic_rouge1_recall              0.100233     0.174242     0.398276   \n",
       "gtp_basic_rouge1_f                   0.031960     0.064489     0.309387   \n",
       "gtp_coreference_rouge1_precision     0.015708     0.038741     0.210915   \n",
       "gtp_coreference_rouge1_recall        0.130245     0.257576     0.495833   \n",
       "gtp_coreference_rouge1_f             0.027551     0.057377     0.294824   \n",
       "\n",
       "                                          max  \n",
       "transcript_length                 4712.000000  \n",
       "bart_rouge1_precision                0.520000  \n",
       "bart_rouge1_recall                   0.553191  \n",
       "bart_rouge1_f                        0.536082  \n",
       "gtp_basic_rouge1_precision           0.412698  \n",
       "gtp_basic_rouge1_recall              0.638298  \n",
       "gtp_basic_rouge1_f                   0.458015  \n",
       "gtp_coreference_rouge1_precision     0.254386  \n",
       "gtp_coreference_rouge1_recall        0.657895  \n",
       "gtp_coreference_rouge1_f             0.345679  "
      ]
     },
     "execution_count": 36,
     "metadata": {},
     "output_type": "execute_result"
    }
   ],
   "source": [
    "sm.describe().transpose()"
   ]
  },
  {
   "cell_type": "markdown",
   "id": "d3ae09b7",
   "metadata": {},
   "source": [
    "#### Precision\n",
    "- Measures how many of the words in the candidate summary are also in the reference summary (higher is better)\n",
    "- Focuses on how much of the candidate text is relevant or correct. \n",
    "- Indicates that most of the content in the candidate text is also found in the reference text, meaning the model did not introduce much irrelevant information.\n",
    "\n",
    "$$\\text{Precision} = \\frac{\\text{Number of Overlapping Words}}{\\text{Total Words in Summary}}$$"
   ]
  },
  {
   "cell_type": "code",
   "execution_count": 37,
   "id": "3c0a0990",
   "metadata": {},
   "outputs": [
    {
     "data": {
      "text/plain": [
       "<Axes: >"
      ]
     },
     "execution_count": 37,
     "metadata": {},
     "output_type": "execute_result"
    },
    {
     "data": {
      "image/png": "[encoded data removed]",
      "text/plain": [
       "<Figure size 640x480 with 1 Axes>"
      ]
     },
     "metadata": {},
     "output_type": "display_data"
    }
   ],
   "source": [
    "sm[[\"bart_rouge1_precision\", \"gtp_basic_rouge1_precision\", \"gtp_coreference_rouge1_precision\"]].boxplot(vert=False)\n"
   ]
  },
  {
   "cell_type": "markdown",
   "id": "00b3cb34",
   "metadata": {},
   "source": [
    "#### Recall\n",
    "-  Measures how many of the words in the reference summary are captured by the candidate summary. \n",
    " $$\\text{Recall} = \\frac{\\text{Number of overlapping words in candidate and reference}}{\\text{Number of words in reference}}$$"
   ]
  },
  {
   "cell_type": "code",
   "execution_count": 38,
   "id": "070896c0",
   "metadata": {},
   "outputs": [
    {
     "data": {
      "text/plain": [
       "<Axes: >"
      ]
     },
     "execution_count": 38,
     "metadata": {},
     "output_type": "execute_result"
    },
    {
     "data": {
      "image/png": "[encoded data removed]",
      "text/plain": [
       "<Figure size 640x480 with 1 Axes>"
      ]
     },
     "metadata": {},
     "output_type": "display_data"
    }
   ],
   "source": [
    "sm[[\"bart_rouge1_recall\", \"gtp_basic_rouge1_recall\", \"gtp_coreference_rouge1_recall\"]].boxplot(vert=False)\n"
   ]
  },
  {
   "cell_type": "markdown",
   "id": "a248b622",
   "metadata": {},
   "source": [
    "#### F-Measure\n",
    " The harmonic mean of precision and recall, providing a single score that balances both metrics. \n",
    "  $$\\text{F-Measure} = 2 \\times \\frac{\\text{Precision} \\times \\text{Recall}}{\\text{Precision} + \\text{Recall}}$$\n",
    "\n",
    "  ### 0.4 is considered very good"
   ]
  },
  {
   "cell_type": "code",
   "execution_count": 39,
   "id": "a247dcc7",
   "metadata": {},
   "outputs": [
    {
     "data": {
      "text/plain": [
       "<Axes: >"
      ]
     },
     "execution_count": 39,
     "metadata": {},
     "output_type": "execute_result"
    },
    {
     "data": {
      "image/png": "[encoded data removed]",
      "text/plain": [
       "<Figure size 640x480 with 1 Axes>"
      ]
     },
     "metadata": {},
     "output_type": "display_data"
    }
   ],
   "source": [
    "sm[[\"bart_rouge1_f\", \"gtp_basic_rouge1_f\", \"gtp_coreference_rouge1_f\"]].boxplot(vert=False)"
   ]
  },
  {
   "cell_type": "markdown",
   "id": "23b84cbc",
   "metadata": {},
   "source": []
  }
 ],
 "metadata": {
  "kernelspec": {
   "display_name": "ds",
   "language": "python",
   "name": "python3"
  },
  "language_info": {
   "codemirror_mode": {
    "name": "ipython",
    "version": 3
   },
   "file_extension": ".py",
   "mimetype": "text/x-python",
   "name": "python",
   "nbconvert_exporter": "python",
   "pygments_lexer": "ipython3",
   "version": "3.12.7"
  }
 },
 "nbformat": 4,
 "nbformat_minor": 5
}
