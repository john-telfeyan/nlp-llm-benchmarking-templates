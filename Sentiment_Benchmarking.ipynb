{
 "cells": [
  {
   "cell_type": "markdown",
   "id": "e88ff651",
   "metadata": {},
   "source": [
    "# Project Introduction: Benchmarking Summaries using MediaSUM Dataset\n",
    "\n",
    "## Scope of the Project\n",
    "The primary objective of this project is to demonstrate the methodology for benchmarking text sentiment analysi\n",
    "\n",
    "## Key Sections of the Notebook\n",
    "1. Data Preprocessing\n",
    "2. Sentiment classification with Roberta \n",
    "3. Performance Evaluation \n",
    "\n",
    "## Results\n",
    "We do not make statisticaly significant findings; we use a small dataset for demo purposes only\n",
    "  \n",
    "Date: January 2025"
   ]
  },
  {
   "cell_type": "code",
   "execution_count": 28,
   "id": "16ae4833-11c5-460a-be15-5d6bd652f335",
   "metadata": {},
   "outputs": [],
   "source": [
    "from huggingface_hub import login\n",
    "import openai\n",
    "import os\n",
    "import pandas as pd\n",
    "import torch\n",
    "from transformers import pipeline\n",
    "\n",
    "from sklearn.metrics import confusion_matrix, accuracy_score, precision_score, recall_score, f1_score\n",
    "import seaborn as sns\n",
    "import matplotlib.pyplot as plt\n"
   ]
  },
  {
   "cell_type": "code",
   "execution_count": 2,
   "id": "6553b39a-172f-4eb3-87a5-66966964429c",
   "metadata": {},
   "outputs": [
    {
     "name": "stdout",
     "output_type": "stream",
     "text": [
      "\n",
      "Setting huggingface key...\n",
      "The token has not been saved to the git credentials helper. Pass `add_to_git_credential=True` in this function directly or `--add-to-git-credential` if using via `huggingface-cli` if you want to set the git credential as well.\n",
      "Token is valid (permission: read).\n",
      "Your token has been saved to C:\\Users\\johnt\\.cache\\huggingface\\token\n",
      "Login successful\n",
      "\n",
      "Setting openai key...\n",
      "Key length:  164\n"
     ]
    }
   ],
   "source": [
    "print(\"\\nSetting huggingface key...\")\n",
    "with open(\"../../.secrets/huggingface_token_2501_general_read.txt\", 'r') as f:\n",
    "    huggingface_access_token = f.read()\n",
    "login(token=huggingface_access_token)\n",
    "\n",
    "\n",
    "print(\"\\nSetting openai key...\")\n",
    "with open(\"../../.secrets/2501-openai-rwx-key.key\", 'r') as f:\n",
    "    openai.api_key = f.read()\n",
    "    os.environ[\"OPENAI_API_KEY\"] = openai.api_key\n",
    "    print(\"Key length: \", len(os.environ[\"OPENAI_API_KEY\"]))\n"
   ]
  },
  {
   "cell_type": "code",
   "execution_count": 16,
   "id": "c17493e4-086b-4f5e-ba62-98a0a5c5c02a",
   "metadata": {},
   "outputs": [],
   "source": [
    "\n",
    "def clean_roberta_emotion(inference_model, text, max_tokens = 1000):\n",
    "    ''' Roughly clean input text for bart using token estimation of 1 token = 4 characters '''\n",
    "    # split input txt into chunks of max_tokens4 characters\n",
    "    clipped_text = text[:max_tokens*4] \n",
    "    if len(clipped_text) < len(text):\n",
    "        print(\"Dropped \",  len(text) - len(clipped_text), \" characters.\")\n",
    "    \n",
    "    return inference_model(clipped_text)[0][\"label\"]   \n"
   ]
  },
  {
   "cell_type": "code",
   "execution_count": 23,
   "id": "ab454979-e88c-4215-b348-259a6914a54e",
   "metadata": {},
   "outputs": [],
   "source": [
    "def get_template_oneshot_completion(catalogue_item_name: str, prompt_catalogue: pd.DataFrame, input_text: str,\n",
    "                   model_name: str =\"gpt-3.5-turbo\", temperature: float = 0.25, verbose=False  ) -> str:\n",
    "    \"\"\"\n",
    "    Generates a completion using OpenAI's ChatCompletion API based on the provided prompt configuration and input text.\n",
    "\n",
    "    Args:\n",
    "        prompt_config (dict): A dictionary containing the prompt configuration with keys such as 'unique_name', 'task_category', 'system_prompt', etc.\n",
    "        input_text (str): The text to be summarized.\n",
    "\n",
    "    Returns:\n",
    "        str: The assistant's response (completion).\n",
    "\n",
    "    Raises:\n",
    "        Exception: If an error occurs during the OpenAI API call.\n",
    "    \"\"\"\n",
    "    try:\n",
    "        prompt_context = prompt_catalogue[prompt_catalogue[\"unique_name\"] == catalogue_item_name].iloc[0].to_dict()\n",
    "    except IndexError:\n",
    "        raise ValueError(f\"Unique name '{unique_name}' not found in the catalogue.\")\n",
    "    \n",
    "    # Extract the system prompt from the prompt configuration\n",
    "    system_prompt = prompt_context.get('system_prompt', 'You are a helpful chatbot.')\n",
    "    user_prompt_example = prompt_context.get('user_prompt_example')\n",
    "    assistant_response_example = prompt_context.get('assistant_response_example')\n",
    "    user_message = input_text\n",
    "    \n",
    "    # Prepare the messages for the API call\n",
    "    messages = [{\"role\": \"system\", \"content\": system_prompt}]\n",
    "    # Optionally, you can provide an example user message and assistant response \n",
    "    if  user_prompt_example and assistant_response_example:\n",
    "        messages.append( {\"role\": \"user\", \"content\": user_prompt_example} )\n",
    "        messages.append( {\"role\": \"assistant\", \"content\": assistant_response_example} )\n",
    "    messages.append({\"role\": \"user\", \"content\": user_message})\n",
    "\n",
    "    if verbose:\n",
    "        print(messages)\n",
    "    \n",
    "    client = openai.OpenAI(api_key=os.environ.get(\"OPENAI_API_KEY\"))\n",
    "    \n",
    "    try:\n",
    "        response = client.chat.completions.create(\n",
    "            messages=messages,\n",
    "            model=model_name,\n",
    "            temperature=temperature,    # You can adjust the temperature for creativity (0.7-1) or factual (0-0.5)\n",
    "        )\n",
    "        # Extract the assistant's reply\n",
    "        return response.choices[0].message.content\n",
    "         \n",
    "    except openai.OpenAIError as e:\n",
    "        raise Exception(f\"OpenAI API error: {str(e)}\")\n",
    "    except Exception as e:\n",
    "        raise Exception(f\"An unexpected error occurred: {str(e)}\")"
   ]
  },
  {
   "cell_type": "markdown",
   "id": "4a46fb5c-e177-4f8a-8292-d9aab387594a",
   "metadata": {},
   "source": [
    "\n",
    "# Read in MELD Data\n",
    "\n",
    "***MELD Data Overview***\n",
    "\n",
    "**Additional Processing:**\n",
    "- Applied categorical labels to CNN data based on program (e.g. CNN's \"Your money\" = \"busniness\")\n",
    "-  In this analysis we will use a  a smaller ~4k row dataset \n",
    "\n"
   ]
  },
  {
   "cell_type": "code",
   "execution_count": 3,
   "id": "4f7155eb-3001-4021-84d8-bbe1609df616",
   "metadata": {},
   "outputs": [
    {
     "data": {
      "text/html": [
       "<div>\n",
       "<style scoped>\n",
       "    .dataframe tbody tr th:only-of-type {\n",
       "        vertical-align: middle;\n",
       "    }\n",
       "\n",
       "    .dataframe tbody tr th {\n",
       "        vertical-align: top;\n",
       "    }\n",
       "\n",
       "    .dataframe thead th {\n",
       "        text-align: right;\n",
       "    }\n",
       "</style>\n",
       "<table border=\"1\" class=\"dataframe\">\n",
       "  <thead>\n",
       "    <tr style=\"text-align: right;\">\n",
       "      <th></th>\n",
       "      <th>Sr No.</th>\n",
       "      <th>Utterance</th>\n",
       "      <th>Speaker</th>\n",
       "      <th>Emotion</th>\n",
       "      <th>Sentiment</th>\n",
       "      <th>Dialogue_ID</th>\n",
       "      <th>Utterance_ID</th>\n",
       "      <th>Season</th>\n",
       "      <th>Episode</th>\n",
       "      <th>StartTime</th>\n",
       "      <th>EndTime</th>\n",
       "      <th>words</th>\n",
       "      <th>len_chars</th>\n",
       "    </tr>\n",
       "  </thead>\n",
       "  <tbody>\n",
       "    <tr>\n",
       "      <th>0</th>\n",
       "      <td>1</td>\n",
       "      <td>why do all you’re coffee mugs have numbers on ...</td>\n",
       "      <td>Mark</td>\n",
       "      <td>surprise</td>\n",
       "      <td>positive</td>\n",
       "      <td>0</td>\n",
       "      <td>0</td>\n",
       "      <td>3</td>\n",
       "      <td>19</td>\n",
       "      <td>00:14:38,127</td>\n",
       "      <td>00:14:40,378</td>\n",
       "      <td>11</td>\n",
       "      <td>57</td>\n",
       "    </tr>\n",
       "    <tr>\n",
       "      <th>1</th>\n",
       "      <td>2</td>\n",
       "      <td>oh. that’s so monica can keep track. that way ...</td>\n",
       "      <td>Rachel</td>\n",
       "      <td>anger</td>\n",
       "      <td>negative</td>\n",
       "      <td>0</td>\n",
       "      <td>1</td>\n",
       "      <td>3</td>\n",
       "      <td>19</td>\n",
       "      <td>00:14:40,629</td>\n",
       "      <td>00:14:47,385</td>\n",
       "      <td>22</td>\n",
       "      <td>111</td>\n",
       "    </tr>\n",
       "  </tbody>\n",
       "</table>\n",
       "</div>"
      ],
      "text/plain": [
       "   Sr No.                                          Utterance Speaker  \\\n",
       "0       1  why do all you’re coffee mugs have numbers on ...    Mark   \n",
       "1       2  oh. that’s so monica can keep track. that way ...  Rachel   \n",
       "\n",
       "    Emotion Sentiment  Dialogue_ID  Utterance_ID  Season  Episode  \\\n",
       "0  surprise  positive            0             0       3       19   \n",
       "1     anger  negative            0             1       3       19   \n",
       "\n",
       "      StartTime       EndTime  words  len_chars  \n",
       "0  00:14:38,127  00:14:40,378     11         57  \n",
       "1  00:14:40,629  00:14:47,385     22        111  "
      ]
     },
     "execution_count": 3,
     "metadata": {},
     "output_type": "execute_result"
    }
   ],
   "source": [
    "df = pd.read_json(\"MELD_Friends_test_sent_emo.json\")\n",
    "df.head(2)"
   ]
  },
  {
   "cell_type": "code",
   "execution_count": 9,
   "id": "e632b1ca-fb8b-486c-9516-753a4f4e5a0d",
   "metadata": {},
   "outputs": [
    {
     "data": {
      "text/plain": [
       "array([[<Axes: title={'center': 'len_chars'}>]], dtype=object)"
      ]
     },
     "execution_count": 9,
     "metadata": {},
     "output_type": "execute_result"
    },
    {
     "data": {
      "image/png": "[encoded data removed]",
      "text/plain": [
       "<Figure size 640x480 with 1 Axes>"
      ]
     },
     "metadata": {},
     "output_type": "display_data"
    }
   ],
   "source": [
    "df[[\"len_chars\"]].hist(bins=40)"
   ]
  },
  {
   "cell_type": "code",
   "execution_count": 15,
   "id": "69287700-3025-4215-b1bc-d851d280fe71",
   "metadata": {},
   "outputs": [
    {
     "data": {
      "text/html": [
       "<div>\n",
       "<style scoped>\n",
       "    .dataframe tbody tr th:only-of-type {\n",
       "        vertical-align: middle;\n",
       "    }\n",
       "\n",
       "    .dataframe tbody tr th {\n",
       "        vertical-align: top;\n",
       "    }\n",
       "\n",
       "    .dataframe thead th {\n",
       "        text-align: right;\n",
       "    }\n",
       "</style>\n",
       "<table border=\"1\" class=\"dataframe\">\n",
       "  <thead>\n",
       "    <tr style=\"text-align: right;\">\n",
       "      <th></th>\n",
       "      <th>Utterance</th>\n",
       "    </tr>\n",
       "    <tr>\n",
       "      <th>Emotion</th>\n",
       "      <th></th>\n",
       "    </tr>\n",
       "  </thead>\n",
       "  <tbody>\n",
       "    <tr>\n",
       "      <th>anger</th>\n",
       "      <td>1</td>\n",
       "    </tr>\n",
       "    <tr>\n",
       "      <th>disgust</th>\n",
       "      <td>1</td>\n",
       "    </tr>\n",
       "    <tr>\n",
       "      <th>fear</th>\n",
       "      <td>1</td>\n",
       "    </tr>\n",
       "    <tr>\n",
       "      <th>joy</th>\n",
       "      <td>1</td>\n",
       "    </tr>\n",
       "    <tr>\n",
       "      <th>neutral</th>\n",
       "      <td>1</td>\n",
       "    </tr>\n",
       "    <tr>\n",
       "      <th>sadness</th>\n",
       "      <td>1</td>\n",
       "    </tr>\n",
       "    <tr>\n",
       "      <th>surprise</th>\n",
       "      <td>1</td>\n",
       "    </tr>\n",
       "  </tbody>\n",
       "</table>\n",
       "</div>"
      ],
      "text/plain": [
       "          Utterance\n",
       "Emotion            \n",
       "anger             1\n",
       "disgust           1\n",
       "fear              1\n",
       "joy               1\n",
       "neutral           1\n",
       "sadness           1\n",
       "surprise          1"
      ]
     },
     "execution_count": 15,
     "metadata": {},
     "output_type": "execute_result"
    }
   ],
   "source": [
    "sm = df[(df[\"len_chars\"] > 2) & (df[\"len_chars\"] < 150)].groupby('Emotion').sample(1) # smaller df\n",
    "sm[[\"Emotion\", \"Utterance\"]].groupby(\"Emotion\").count()\n"
   ]
  },
  {
   "cell_type": "markdown",
   "id": "5dc25176",
   "metadata": {},
   "source": [
    "#### Summarization Techniques\n",
    "\n",
    "**Emo-Roberta**\n",
    "[https://huggingface.co/j-hartmann/emotion-english-distilroberta-base]\n",
    "\n",
    "**OpenAI - GTP-3**  \n",
    "[https://platform.openai.com/]\n",
    "\n",
    "**Expected Performance**  \n",
    "\n",
    "To-do"
   ]
  },
  {
   "cell_type": "markdown",
   "id": "fdf7f8da-cbd6-4c88-a546-e5f04b2f2ee3",
   "metadata": {},
   "source": [
    "#### Emo-Roberta Sentiment"
   ]
  },
  {
   "cell_type": "code",
   "execution_count": 10,
   "id": "24c34f79-1bd4-4f9a-b9e9-b568f0a070f1",
   "metadata": {},
   "outputs": [
    {
     "name": "stdout",
     "output_type": "stream",
     "text": [
      "cpu\n"
     ]
    }
   ],
   "source": [
    "# Prepare BART Model\n",
    "device = 'cuda' if torch.cuda.is_available() else 'cpu'\n",
    "os.environ[\"CUDA_LAUNCH_BLOCKING\"] = \"1\"\n",
    "os.environ[\"TORCH_USE_CUDA_DSA\"] = \"1\"\n",
    "emo_roberta = pipeline(\"text-classification\", model=\"j-hartmann/emotion-english-distilroberta-base\")\n",
    "print(device)"
   ]
  },
  {
   "cell_type": "code",
   "execution_count": 17,
   "id": "bb686f67-6adb-47ad-8931-2efcbdd9e812",
   "metadata": {},
   "outputs": [],
   "source": [
    "sm[\"Roberta_Sentiment\"] = sm.Utterance.apply( lambda s : clean_roberta_emotion(emo_roberta, s) )"
   ]
  },
  {
   "cell_type": "code",
   "execution_count": 40,
   "id": "1a20c420",
   "metadata": {},
   "outputs": [
    {
     "data": {
      "text/plain": [
       "'surprise'"
      ]
     },
     "execution_count": 40,
     "metadata": {},
     "output_type": "execute_result"
    }
   ],
   "source": [
    "#Example\n",
    "sm[\"Roberta_Sentiment\"].iloc[1]"
   ]
  },
  {
   "cell_type": "code",
   "execution_count": 19,
   "id": "4b9df2b7-8e5e-4177-a179-c7b7284ac923",
   "metadata": {},
   "outputs": [],
   "source": [
    "with torch.no_grad():\n",
    "    torch.cuda.empty_cache()"
   ]
  },
  {
   "cell_type": "markdown",
   "id": "8aecaf55-f13b-490c-91df-749304509874",
   "metadata": {},
   "source": [
    "#### Get GPT Summaries"
   ]
  },
  {
   "cell_type": "code",
   "execution_count": 21,
   "id": "3833a2a5-1726-44a5-9134-1a34fd22da3d",
   "metadata": {},
   "outputs": [
    {
     "data": {
      "text/html": [
       "<div>\n",
       "<style scoped>\n",
       "    .dataframe tbody tr th:only-of-type {\n",
       "        vertical-align: middle;\n",
       "    }\n",
       "\n",
       "    .dataframe tbody tr th {\n",
       "        vertical-align: top;\n",
       "    }\n",
       "\n",
       "    .dataframe thead th {\n",
       "        text-align: right;\n",
       "    }\n",
       "</style>\n",
       "<table border=\"1\" class=\"dataframe\">\n",
       "  <thead>\n",
       "    <tr style=\"text-align: right;\">\n",
       "      <th></th>\n",
       "      <th>unique_name</th>\n",
       "      <th>task_category</th>\n",
       "      <th>system_prompt</th>\n",
       "      <th>user_prompt_example</th>\n",
       "      <th>assistant_response_example</th>\n",
       "    </tr>\n",
       "  </thead>\n",
       "  <tbody>\n",
       "    <tr>\n",
       "      <th>0</th>\n",
       "      <td>summarize_contextual_coreference</td>\n",
       "      <td>summarization</td>\n",
       "      <td>You are a helpful assistant that summarizes te...</td>\n",
       "      <td>Jeff: Can I train a Transformers model on Amaz...</td>\n",
       "      <td>Jeff wants to train a Transformers model on Am...</td>\n",
       "    </tr>\n",
       "    <tr>\n",
       "      <th>1</th>\n",
       "      <td>summarize_basic_instruction</td>\n",
       "      <td>summarization</td>\n",
       "      <td>Summarize the given dialogue text in two to th...</td>\n",
       "      <td>If you or someone you know is out of a job, th...</td>\n",
       "      <td>Etiquette expert Peter Post advises people to ...</td>\n",
       "    </tr>\n",
       "    <tr>\n",
       "      <th>2</th>\n",
       "      <td>summarize_coreference</td>\n",
       "      <td>summarization</td>\n",
       "      <td>You are bot that summarizes text using a co-re...</td>\n",
       "      <td>If you or someone you know is out of a job, th...</td>\n",
       "      <td>Career coach Ellen Gordon Reeves wants you to ...</td>\n",
       "    </tr>\n",
       "    <tr>\n",
       "      <th>3</th>\n",
       "      <td>sentiment_ekmans_emo</td>\n",
       "      <td>sentiment</td>\n",
       "      <td>You are a bot that classifies text sentiment a...</td>\n",
       "      <td>You had no right to take that money from my ac...</td>\n",
       "      <td>anger</td>\n",
       "    </tr>\n",
       "    <tr>\n",
       "      <th>4</th>\n",
       "      <td>sentiment_pnn</td>\n",
       "      <td>sentiment</td>\n",
       "      <td>You are a bot that classifies text sentiment a...</td>\n",
       "      <td>You had no right to take that money from my ac...</td>\n",
       "      <td>very negative</td>\n",
       "    </tr>\n",
       "  </tbody>\n",
       "</table>\n",
       "</div>"
      ],
      "text/plain": [
       "                        unique_name  task_category  \\\n",
       "0  summarize_contextual_coreference  summarization   \n",
       "1       summarize_basic_instruction  summarization   \n",
       "2             summarize_coreference  summarization   \n",
       "3              sentiment_ekmans_emo      sentiment   \n",
       "4                     sentiment_pnn      sentiment   \n",
       "\n",
       "                                       system_prompt  \\\n",
       "0  You are a helpful assistant that summarizes te...   \n",
       "1  Summarize the given dialogue text in two to th...   \n",
       "2  You are bot that summarizes text using a co-re...   \n",
       "3  You are a bot that classifies text sentiment a...   \n",
       "4  You are a bot that classifies text sentiment a...   \n",
       "\n",
       "                                 user_prompt_example  \\\n",
       "0  Jeff: Can I train a Transformers model on Amaz...   \n",
       "1  If you or someone you know is out of a job, th...   \n",
       "2  If you or someone you know is out of a job, th...   \n",
       "3  You had no right to take that money from my ac...   \n",
       "4  You had no right to take that money from my ac...   \n",
       "\n",
       "                          assistant_response_example  \n",
       "0  Jeff wants to train a Transformers model on Am...  \n",
       "1  Etiquette expert Peter Post advises people to ...  \n",
       "2  Career coach Ellen Gordon Reeves wants you to ...  \n",
       "3                                              anger  \n",
       "4                                      very negative  "
      ]
     },
     "execution_count": 21,
     "metadata": {},
     "output_type": "execute_result"
    }
   ],
   "source": [
    "prompt_catalogue = pd.read_excel(\"openai-api-prompts.xlsx\", sheet_name=\"one-shot\")\n",
    "prompt_catalogue.head()"
   ]
  },
  {
   "cell_type": "code",
   "execution_count": 26,
   "id": "7c930275-91c4-401e-a93b-7bbe79be5ab4",
   "metadata": {},
   "outputs": [],
   "source": [
    "sm[\"gtp_sentiment_ekmans_emo\"] = sm.Utterance.apply(lambda s : get_template_oneshot_completion(\"sentiment_ekmans_emo\", prompt_catalogue, s) )"
   ]
  },
  {
   "cell_type": "markdown",
   "id": "d23edd52",
   "metadata": {},
   "source": [
    "#### Compare the Classifiers  \n",
    "todo \n",
    "**State of the Art**   \n",
    "todo\n",
    "\n",
    "**How can you Interpret the Scores?**  \n",
    "\n",
    "Confusion Matrix: A table used to evaluate the performance of a classification model. It shows the actual vs. predicted classifications.  \n",
    "\n",
    "True Positives (TP): Correctly predicted positive observations.  \n",
    "\n",
    "True Negatives (TN): Correctly predicted negative observations.  \n",
    "\n",
    "False Positives (FP): Incorrectly predicted positive observations.  \n",
    "\n",
    "False Negatives (FN): Incorrectly predicted negative observations.  \n",
    "\n",
    "Accuracy: The ratio of correctly predicted observations to the total observations. $$\\text{Accuracy} = \\frac{TP + TN}{TP + TN + FP + FN}$$\n",
    "\n",
    "Precision: The ratio of correctly predicted positive observations to the total predicted positives. $$\\text{Precision} = \\frac{TP}{TP + FP}$$\n",
    "\n",
    "Recall (Sensitivity): The ratio of correctly predicted positive observations to the all observations in the actual class. $$\\text{Recall} = \\frac{TP}{TP + FN}$$\n",
    "\n",
    "F1-Score: The weighted average of Precision and Recall. $$\\text{F1-Score} = 2 \\times \\frac{\\text{Precision} \\times \\text{Recall}}{\\text{Precision} + \\text{Recall}}$$\n",
    "\n",
    "**Sources**  \n"
   ]
  },
  {
   "cell_type": "code",
   "execution_count": 41,
   "id": "c10e012a-b831-401e-b7e6-ca455d199c1a",
   "metadata": {},
   "outputs": [
    {
     "data": {
      "text/html": [
       "<div>\n",
       "<style scoped>\n",
       "    .dataframe tbody tr th:only-of-type {\n",
       "        vertical-align: middle;\n",
       "    }\n",
       "\n",
       "    .dataframe tbody tr th {\n",
       "        vertical-align: top;\n",
       "    }\n",
       "\n",
       "    .dataframe thead th {\n",
       "        text-align: right;\n",
       "    }\n",
       "</style>\n",
       "<table border=\"1\" class=\"dataframe\">\n",
       "  <thead>\n",
       "    <tr style=\"text-align: right;\">\n",
       "      <th></th>\n",
       "      <th></th>\n",
       "      <th></th>\n",
       "    </tr>\n",
       "    <tr>\n",
       "      <th>Emotion</th>\n",
       "      <th>gtp_sentiment_ekmans_emo</th>\n",
       "      <th>Roberta_Sentiment</th>\n",
       "    </tr>\n",
       "  </thead>\n",
       "  <tbody>\n",
       "    <tr>\n",
       "      <th>anger</th>\n",
       "      <th>joy</th>\n",
       "      <th>joy</th>\n",
       "    </tr>\n",
       "    <tr>\n",
       "      <th>disgust</th>\n",
       "      <th>surprise</th>\n",
       "      <th>surprise</th>\n",
       "    </tr>\n",
       "    <tr>\n",
       "      <th>fear</th>\n",
       "      <th>joy</th>\n",
       "      <th>surprise</th>\n",
       "    </tr>\n",
       "    <tr>\n",
       "      <th>joy</th>\n",
       "      <th>joy</th>\n",
       "      <th>neutral</th>\n",
       "    </tr>\n",
       "    <tr>\n",
       "      <th>neutral</th>\n",
       "      <th>joy</th>\n",
       "      <th>anger</th>\n",
       "    </tr>\n",
       "    <tr>\n",
       "      <th>sadness</th>\n",
       "      <th>sadness</th>\n",
       "      <th>fear</th>\n",
       "    </tr>\n",
       "    <tr>\n",
       "      <th>surprise</th>\n",
       "      <th>surprise</th>\n",
       "      <th>surprise</th>\n",
       "    </tr>\n",
       "  </tbody>\n",
       "</table>\n",
       "</div>"
      ],
      "text/plain": [
       "Empty DataFrame\n",
       "Columns: []\n",
       "Index: [(anger, joy, joy), (disgust, surprise, surprise), (fear, joy, surprise), (joy, joy, neutral), (neutral, joy, anger), (sadness, sadness, fear), (surprise, surprise, surprise)]"
      ]
     },
     "execution_count": 41,
     "metadata": {},
     "output_type": "execute_result"
    }
   ],
   "source": [
    "# correct answer: Emotion\n",
    "# prediction: gtp_sentiment_ekmans_emo\n",
    "# show confusion matrix\n",
    "\n",
    "sm[[\"Emotion\", \"gtp_sentiment_ekmans_emo\",\"Roberta_Sentiment\"]].groupby([\"Emotion\", \"gtp_sentiment_ekmans_emo\",\"Roberta_Sentiment\"]).count()"
   ]
  },
  {
   "cell_type": "markdown",
   "id": "b9dd8b25",
   "metadata": {},
   "source": [
    "### GTP Metrics"
   ]
  },
  {
   "cell_type": "code",
   "execution_count": 30,
   "id": "da636100",
   "metadata": {},
   "outputs": [
    {
     "data": {
      "image/png": "[encoded data removed]",
      "text/plain": [
       "<Figure size 1000x700 with 2 Axes>"
      ]
     },
     "metadata": {},
     "output_type": "display_data"
    }
   ],
   "source": [
    "cm = confusion_matrix(sm[\"Emotion\"], sm[\"gtp_sentiment_ekmans_emo\"], labels=sm[\"Emotion\"].unique())\n",
    "\n",
    "# Create a heatmap to visualize the confusion matrix\n",
    "plt.figure(figsize=(10, 7))\n",
    "sns.heatmap(cm, annot=True, fmt=\"d\", xticklabels=sm[\"Emotion\"].unique(), yticklabels=sm[\"Emotion\"].unique(), cmap=\"Blues\")\n",
    "plt.xlabel('Predicted Labels')\n",
    "plt.ylabel('True Labels')\n",
    "plt.title('Confusion Matrix')\n",
    "plt.show()"
   ]
  },
  {
   "cell_type": "code",
   "execution_count": 33,
   "id": "6c4489d2",
   "metadata": {},
   "outputs": [
    {
     "data": {
      "text/plain": [
       "0.42857142857142855"
      ]
     },
     "execution_count": 33,
     "metadata": {},
     "output_type": "execute_result"
    }
   ],
   "source": [
    "# Calculate accuracy\n",
    "accuracy = accuracy_score(sm[\"Emotion\"], sm[\"gtp_sentiment_ekmans_emo\"])\n",
    "accuracy\n"
   ]
  },
  {
   "cell_type": "code",
   "execution_count": 35,
   "id": "1e811ea5",
   "metadata": {},
   "outputs": [
    {
     "name": "stderr",
     "output_type": "stream",
     "text": [
      "c:\\Users\\johnt\\.conda\\envs\\nlp\\Lib\\site-packages\\sklearn\\metrics\\_classification.py:1344: UndefinedMetricWarning: Precision is ill-defined and being set to 0.0 in labels with no predicted samples. Use `zero_division` parameter to control this behavior.\n",
      "  _warn_prf(average, modifier, msg_start, len(result))\n"
     ]
    }
   ],
   "source": [
    "# Calculate precision, recall, and F1-score for each class\n",
    "precision = precision_score(sm[\"Emotion\"], sm[\"gtp_sentiment_ekmans_emo\"], average=None, labels=sm[\"Emotion\"].unique())\n",
    "recall = recall_score(sm[\"Emotion\"], sm[\"gtp_sentiment_ekmans_emo\"], average=None, labels=sm[\"Emotion\"].unique())\n",
    "f1 = f1_score(sm[\"Emotion\"], sm[\"gtp_sentiment_ekmans_emo\"], average=None, labels=sm[\"Emotion\"].unique())\n"
   ]
  },
  {
   "cell_type": "code",
   "execution_count": 38,
   "id": "5cfdb317",
   "metadata": {},
   "outputs": [
    {
     "name": "stdout",
     "output_type": "stream",
     "text": [
      "Overall Accuracy: 0.42857142857142855\n",
      "anger - Precision: 0.0, Recall: 0.0, F1-Score: 0.0\n",
      "disgust - Precision: 0.0, Recall: 0.0, F1-Score: 0.0\n",
      "fear - Precision: 0.0, Recall: 0.0, F1-Score: 0.0\n",
      "joy - Precision: 0.25, Recall: 1.0, F1-Score: 0.4\n",
      "neutral - Precision: 0.0, Recall: 0.0, F1-Score: 0.0\n",
      "sadness - Precision: 1.0, Recall: 1.0, F1-Score: 1.0\n",
      "surprise - Precision: 0.5, Recall: 1.0, F1-Score: 0.6666666666666666\n"
     ]
    }
   ],
   "source": [
    "# Print metrics\n",
    "print(f'Overall Accuracy: {accuracy}')\n",
    "for i, label in enumerate(sm[\"Emotion\"].unique()):\n",
    "    print(f'{label} - Precision: {precision[i]}, Recall: {recall[i]}, F1-Score: {f1[i]}')"
   ]
  },
  {
   "cell_type": "markdown",
   "id": "e8101a11",
   "metadata": {},
   "source": [
    "### Roberta Metrics"
   ]
  },
  {
   "cell_type": "code",
   "execution_count": 42,
   "id": "ddb76e7c",
   "metadata": {},
   "outputs": [
    {
     "data": {
      "image/png": "[encoded data removed]",
      "text/plain": [
       "<Figure size 1000x700 with 2 Axes>"
      ]
     },
     "metadata": {},
     "output_type": "display_data"
    }
   ],
   "source": [
    "cm = confusion_matrix(sm[\"Emotion\"], sm[\"Roberta_Sentiment\"], labels=sm[\"Emotion\"].unique())\n",
    "\n",
    "# Create a heatmap to visualize the confusion matrix\n",
    "plt.figure(figsize=(10, 7))\n",
    "sns.heatmap(cm, annot=True, fmt=\"d\", xticklabels=sm[\"Emotion\"].unique(), yticklabels=sm[\"Emotion\"].unique(), cmap=\"Blues\")\n",
    "plt.xlabel('Predicted Labels')\n",
    "plt.ylabel('True Labels')\n",
    "plt.title('Confusion Matrix')\n",
    "plt.show()"
   ]
  },
  {
   "cell_type": "markdown",
   "id": "23b84cbc",
   "metadata": {},
   "source": []
  },
  {
   "cell_type": "code",
   "execution_count": null,
   "id": "e3928780",
   "metadata": {},
   "outputs": [],
   "source": [
    "# Calculate accuracy\n",
    "accuracy = accuracy_score(sm[\"Emotion\"], sm[\"Roberta_Sentiment\"])\n",
    "accuracy"
   ]
  },
  {
   "cell_type": "code",
   "execution_count": 44,
   "id": "a8403e7f",
   "metadata": {},
   "outputs": [
    {
     "name": "stdout",
     "output_type": "stream",
     "text": [
      "Overall Accuracy: 0.42857142857142855\n",
      "anger - Precision: 0.0, Recall: 0.0, F1-Score: 0.0\n",
      "disgust - Precision: 0.0, Recall: 0.0, F1-Score: 0.0\n",
      "fear - Precision: 0.0, Recall: 0.0, F1-Score: 0.0\n",
      "joy - Precision: 0.0, Recall: 0.0, F1-Score: 0.0\n",
      "neutral - Precision: 0.0, Recall: 0.0, F1-Score: 0.0\n",
      "sadness - Precision: 0.0, Recall: 0.0, F1-Score: 0.0\n",
      "surprise - Precision: 0.3333333333333333, Recall: 1.0, F1-Score: 0.5\n"
     ]
    },
    {
     "name": "stderr",
     "output_type": "stream",
     "text": [
      "c:\\Users\\johnt\\.conda\\envs\\nlp\\Lib\\site-packages\\sklearn\\metrics\\_classification.py:1344: UndefinedMetricWarning: Precision is ill-defined and being set to 0.0 in labels with no predicted samples. Use `zero_division` parameter to control this behavior.\n",
      "  _warn_prf(average, modifier, msg_start, len(result))\n"
     ]
    }
   ],
   "source": [
    "# Calculate precision, recall, and F1-score for each class\n",
    "precision = precision_score(sm[\"Emotion\"], sm[\"Roberta_Sentiment\"], average=None, labels=sm[\"Emotion\"].unique())\n",
    "recall = recall_score(sm[\"Emotion\"], sm[\"Roberta_Sentiment\"], average=None, labels=sm[\"Emotion\"].unique())\n",
    "f1 = f1_score(sm[\"Emotion\"], sm[\"Roberta_Sentiment\"], average=None, labels=sm[\"Emotion\"].unique())\n",
    "\n",
    "print(f'Overall Accuracy: {accuracy}')\n",
    "for i, label in enumerate(sm[\"Emotion\"].unique()):\n",
    "    print(f'{label} - Precision: {precision[i]}, Recall: {recall[i]}, F1-Score: {f1[i]}')"
   ]
  },
  {
   "cell_type": "code",
   "execution_count": null,
   "id": "9df74136",
   "metadata": {},
   "outputs": [],
   "source": []
  }
 ],
 "metadata": {
  "kernelspec": {
   "display_name": "nlp",
   "language": "python",
   "name": "python3"
  },
  "language_info": {
   "codemirror_mode": {
    "name": "ipython",
    "version": 3
   },
   "file_extension": ".py",
   "mimetype": "text/x-python",
   "name": "python",
   "nbconvert_exporter": "python",
   "pygments_lexer": "ipython3",
   "version": "3.11.7"
  }
 },
 "nbformat": 4,
 "nbformat_minor": 5
}
